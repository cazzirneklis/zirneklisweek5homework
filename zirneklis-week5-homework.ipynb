{
 "cells": [
  {
   "cell_type": "code",
   "execution_count": 1,
   "id": "fa6d77bb",
   "metadata": {},
   "outputs": [],
   "source": [
    "myURLS = [\n",
    "    'great-unique-data-1.html',\n",
    "    'great-unique-data-2.html',\n",
    "    'great-unique-data-3.html',\n",
    "    'great-unique-data-4.html',\n",
    "    'great-unique-data-5.html',\n",
    "    'great-unique-data-6.html',\n",
    "    'great-unique-data-7.html',\n",
    "    'great-unique-data-8.html',\n",
    "    'great-unique-data-9.html',\n",
    "    'great-unique-data-10.html',\n",
    "    'great-unique-data-11.html',\n",
    "    'great-unique-data-12.html',\n",
    "    'great-unique-data-13.html',\n",
    "    'great-unique-data-14.html',\n",
    "    'great-unique-data-15.html'\n",
    "]"
   ]
  },
  {
   "cell_type": "code",
   "execution_count": 2,
   "id": "1bc51b73",
   "metadata": {},
   "outputs": [
    {
     "data": {
      "text/plain": [
       "['great-unique-data-1.html',\n",
       " 'great-unique-data-2.html',\n",
       " 'great-unique-data-3.html',\n",
       " 'great-unique-data-4.html',\n",
       " 'great-unique-data-5.html',\n",
       " 'great-unique-data-6.html',\n",
       " 'great-unique-data-7.html',\n",
       " 'great-unique-data-8.html',\n",
       " 'great-unique-data-9.html',\n",
       " 'great-unique-data-10.html',\n",
       " 'great-unique-data-11.html',\n",
       " 'great-unique-data-12.html',\n",
       " 'great-unique-data-13.html',\n",
       " 'great-unique-data-14.html',\n",
       " 'great-unique-data-15.html']"
      ]
     },
     "execution_count": 2,
     "metadata": {},
     "output_type": "execute_result"
    }
   ],
   "source": [
    "myURLS"
   ]
  },
  {
   "cell_type": "code",
   "execution_count": 3,
   "id": "939b40de",
   "metadata": {
    "scrolled": true
   },
   "outputs": [
    {
     "name": "stdout",
     "output_type": "stream",
     "text": [
      "http://www.importantsite.com/great-unique-data-1.html\n",
      "http://www.importantsite.com/great-unique-data-2.html\n",
      "http://www.importantsite.com/great-unique-data-3.html\n",
      "http://www.importantsite.com/great-unique-data-4.html\n",
      "http://www.importantsite.com/great-unique-data-5.html\n",
      "http://www.importantsite.com/great-unique-data-6.html\n",
      "http://www.importantsite.com/great-unique-data-7.html\n",
      "http://www.importantsite.com/great-unique-data-8.html\n",
      "http://www.importantsite.com/great-unique-data-9.html\n",
      "http://www.importantsite.com/great-unique-data-10.html\n",
      "http://www.importantsite.com/great-unique-data-11.html\n",
      "http://www.importantsite.com/great-unique-data-12.html\n",
      "http://www.importantsite.com/great-unique-data-13.html\n",
      "http://www.importantsite.com/great-unique-data-14.html\n",
      "http://www.importantsite.com/great-unique-data-15.html\n"
     ]
    }
   ],
   "source": [
    "for each_data in myURLS:\n",
    "    print(f\"http://www.importantsite.com/{each_data}\")"
   ]
  },
  {
   "cell_type": "code",
   "execution_count": 4,
   "id": "7e018249",
   "metadata": {},
   "outputs": [
    {
     "name": "stdout",
     "output_type": "stream",
     "text": [
      "http://www.importantsite.com/\n"
     ]
    }
   ],
   "source": [
    "address=\"http://www.importantsite.com/\"\n",
    "print(address)"
   ]
  },
  {
   "cell_type": "code",
   "execution_count": 5,
   "id": "acd494d7",
   "metadata": {},
   "outputs": [],
   "source": [
    "full_URLS=[]\n",
    "\n"
   ]
  },
  {
   "cell_type": "code",
   "execution_count": 6,
   "id": "c8ab9e9a",
   "metadata": {},
   "outputs": [
    {
     "name": "stdout",
     "output_type": "stream",
     "text": [
      "http://www.importantsite.com/great-unique-data-1.html\n",
      "http://www.importantsite.com/great-unique-data-2.html\n",
      "http://www.importantsite.com/great-unique-data-3.html\n",
      "http://www.importantsite.com/great-unique-data-4.html\n",
      "http://www.importantsite.com/great-unique-data-5.html\n",
      "http://www.importantsite.com/great-unique-data-6.html\n",
      "http://www.importantsite.com/great-unique-data-7.html\n",
      "http://www.importantsite.com/great-unique-data-8.html\n",
      "http://www.importantsite.com/great-unique-data-9.html\n",
      "http://www.importantsite.com/great-unique-data-10.html\n",
      "http://www.importantsite.com/great-unique-data-11.html\n",
      "http://www.importantsite.com/great-unique-data-12.html\n",
      "http://www.importantsite.com/great-unique-data-13.html\n",
      "http://www.importantsite.com/great-unique-data-14.html\n",
      "http://www.importantsite.com/great-unique-data-15.html\n"
     ]
    }
   ],
   "source": [
    "for each_data in myURLS:\n",
    "    new_URL=address+each_data\n",
    "    \n",
    "    print(new_URL)                "
   ]
  },
  {
   "cell_type": "code",
   "execution_count": 7,
   "id": "d26cf7ae",
   "metadata": {},
   "outputs": [
    {
     "name": "stdout",
     "output_type": "stream",
     "text": [
      "['http://www.importantsite.com/great-unique-data-15.html']\n"
     ]
    }
   ],
   "source": [
    "full_URLS.append(new_URL)\n",
    "print(full_URLS)\n",
    "##I can't figure out why this is only including one item in the list below"
   ]
  },
  {
   "cell_type": "code",
   "execution_count": 8,
   "id": "1184a8d5",
   "metadata": {},
   "outputs": [],
   "source": [
    "##3 LONG LIST OF TOXINS,run\n",
    "toxins = [\n",
    "        \"Recombinant Bovine Growth Hormone\", \n",
    "        \"Butylated Hydroxyanisole\", \n",
    "        \"Sodium Aluminum Sulphate\",\n",
    "        \"Potassium Aluminum Sulphate\",\n",
    "        \"Sodium Nitrite\",\n",
    "        \"Polycyclic Aromatic Hydrocarbons\",\n",
    "        \"Dioxins\",\n",
    "        \"Heterocyclic Amines\",\n",
    "        \"Butylated Hydroxytoluene\",\n",
    "        \"Polyvinyl Chloride\",\n",
    "        \"PVC\",\n",
    "        \"Perfluorooctanoic Acid\",\n",
    "        \"PFOA\",\n",
    "        \"Triclosan\",\n",
    "        \"Bisphenol-A\",\n",
    "        \"BPA\",\n",
    "        \"Formaldehyde\",\n",
    "        \"Naphthalene\",\n",
    "        \"Asbestos\"\n",
    "         ]"
   ]
  },
  {
   "cell_type": "code",
   "execution_count": 9,
   "id": "c023129e",
   "metadata": {},
   "outputs": [
    {
     "data": {
      "text/plain": [
       "9"
      ]
     },
     "execution_count": 9,
     "metadata": {},
     "output_type": "execute_result"
    }
   ],
   "source": [
    "### QUESTION NUMBER 3\n",
    "toxins.index(\"Polyvinyl Chloride\")"
   ]
  },
  {
   "cell_type": "code",
   "execution_count": 10,
   "id": "b6442675",
   "metadata": {},
   "outputs": [
    {
     "data": {
      "text/plain": [
       "18"
      ]
     },
     "execution_count": 10,
     "metadata": {},
     "output_type": "execute_result"
    }
   ],
   "source": [
    "toxins.index(\"Asbestos\")"
   ]
  },
  {
   "cell_type": "code",
   "execution_count": 11,
   "id": "415a1d80",
   "metadata": {},
   "outputs": [
    {
     "name": "stdout",
     "output_type": "stream",
     "text": [
      "['Polyvinyl Chloride', 'PVC', 'Perfluorooctanoic Acid', 'PFOA', 'Triclosan', 'Bisphenol-A', 'BPA', 'Formaldehyde', 'Naphthalene', 'Asbestos']\n"
     ]
    }
   ],
   "source": [
    "hormone_inhibitors = toxins [9:19]\n",
    "print(hormone_inhibitors)"
   ]
  },
  {
   "cell_type": "code",
   "execution_count": 12,
   "id": "744bf45e",
   "metadata": {},
   "outputs": [
    {
     "name": "stdout",
     "output_type": "stream",
     "text": [
      "['Recombinant Bovine Growth Hormone', 'Butylated Hydroxyanisole', 'Sodium Aluminum Sulphate', 'Potassium Aluminum Sulphate', 'Sodium Nitrite', 'Polycyclic Aromatic Hydrocarbons', 'Dioxins', 'Heterocyclic Amines', 'Butylated Hydroxytoluene']\n"
     ]
    }
   ],
   "source": [
    "### QUESTION NUMBER 4\n",
    "food_toxins = toxins [0:9]\n",
    "print(food_toxins)"
   ]
  },
  {
   "cell_type": "code",
   "execution_count": 13,
   "id": "e6b6ce36",
   "metadata": {},
   "outputs": [],
   "source": [
    "## QUESTION NUMBER 5 run this cell\n",
    "monthly_rent_2022 = [3500, 2700, 1200, 5000, 3500, 2000, 4300, 3400, 3900 ]"
   ]
  },
  {
   "cell_type": "code",
   "execution_count": 14,
   "id": "58d5c203",
   "metadata": {},
   "outputs": [],
   "source": [
    "change=.278\n",
    "monthly_rent_2023=[]\n",
    "\n",
    "for each_rent in monthly_rent_2022:\n",
    "    new_rent= (each_rent*.278)+each_rent\n",
    "    monthly_rent_2023.append(new_rent)"
   ]
  },
  {
   "cell_type": "code",
   "execution_count": 15,
   "id": "25414275",
   "metadata": {},
   "outputs": [
    {
     "name": "stdout",
     "output_type": "stream",
     "text": [
      "[4473.0, 3450.6, 1533.6, 6390.0, 4473.0, 2556.0, 5495.4, 4345.2, 4984.2]\n"
     ]
    }
   ],
   "source": [
    "print(monthly_rent_2023)"
   ]
  },
  {
   "cell_type": "code",
   "execution_count": null,
   "id": "24a435bc",
   "metadata": {},
   "outputs": [],
   "source": []
  }
 ],
 "metadata": {
  "kernelspec": {
   "display_name": "Python 3 (ipykernel)",
   "language": "python",
   "name": "python3"
  },
  "language_info": {
   "codemirror_mode": {
    "name": "ipython",
    "version": 3
   },
   "file_extension": ".py",
   "mimetype": "text/x-python",
   "name": "python",
   "nbconvert_exporter": "python",
   "pygments_lexer": "ipython3",
   "version": "3.9.7"
  }
 },
 "nbformat": 4,
 "nbformat_minor": 5
}
